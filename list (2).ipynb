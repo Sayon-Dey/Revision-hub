{
 "cells": [
  {
   "cell_type": "markdown",
   "id": "7dc317b4",
   "metadata": {},
   "source": [
    "# list is a data structure which is also called collection of item in which we can store anything like 'String', 'Integer', 'Float', 'Boolean'"
   ]
  },
  {
   "cell_type": "code",
   "execution_count": 1,
   "id": "a2b0d01d",
   "metadata": {},
   "outputs": [],
   "source": [
    "list=[12,14,19,12,14,'Sayon']"
   ]
  },
  {
   "cell_type": "code",
   "execution_count": 2,
   "id": "de0fae64",
   "metadata": {},
   "outputs": [
    {
     "name": "stdout",
     "output_type": "stream",
     "text": [
      "[12, 14, 19, 12, 14, 'Sayon']\n"
     ]
    }
   ],
   "source": [
    "print(list)"
   ]
  },
  {
   "cell_type": "code",
   "execution_count": 3,
   "id": "b475630e",
   "metadata": {},
   "outputs": [
    {
     "name": "stdout",
     "output_type": "stream",
     "text": [
      "<class 'list'>\n"
     ]
    }
   ],
   "source": [
    "print(type(list))"
   ]
  },
  {
   "cell_type": "markdown",
   "id": "4c65cecb",
   "metadata": {},
   "source": [
    "# Empty list"
   ]
  },
  {
   "cell_type": "code",
   "execution_count": 5,
   "id": "a6036aff",
   "metadata": {},
   "outputs": [],
   "source": [
    "l=[]"
   ]
  },
  {
   "cell_type": "code",
   "execution_count": 6,
   "id": "4c978aa9",
   "metadata": {},
   "outputs": [
    {
     "name": "stdout",
     "output_type": "stream",
     "text": [
      "<class 'list'>\n"
     ]
    }
   ],
   "source": [
    "print(type(l))"
   ]
  },
  {
   "cell_type": "markdown",
   "id": "c3532ce0",
   "metadata": {},
   "source": [
    "# Slicing in list"
   ]
  },
  {
   "cell_type": "code",
   "execution_count": 8,
   "id": "174c3453",
   "metadata": {},
   "outputs": [],
   "source": [
    "l=[18,'virat','best batsman',True,53.5]"
   ]
  },
  {
   "cell_type": "code",
   "execution_count": 11,
   "id": "83993e1e",
   "metadata": {},
   "outputs": [
    {
     "data": {
      "text/plain": [
       "5"
      ]
     },
     "execution_count": 11,
     "metadata": {},
     "output_type": "execute_result"
    }
   ],
   "source": [
    "len(l)"
   ]
  },
  {
   "cell_type": "code",
   "execution_count": 9,
   "id": "09db6f7a",
   "metadata": {},
   "outputs": [
    {
     "name": "stdout",
     "output_type": "stream",
     "text": [
      "virat\n"
     ]
    }
   ],
   "source": [
    "print(l[1])"
   ]
  },
  {
   "cell_type": "code",
   "execution_count": 10,
   "id": "af1bad81",
   "metadata": {},
   "outputs": [
    {
     "data": {
      "text/plain": [
       "['virat', 'best batsman', True]"
      ]
     },
     "execution_count": 10,
     "metadata": {},
     "output_type": "execute_result"
    }
   ],
   "source": [
    "l[1:4]"
   ]
  },
  {
   "cell_type": "code",
   "execution_count": 12,
   "id": "9a01c6da",
   "metadata": {},
   "outputs": [
    {
     "data": {
      "text/plain": [
       "[18, 'virat', 'best batsman', True, 53.5]"
      ]
     },
     "execution_count": 12,
     "metadata": {},
     "output_type": "execute_result"
    }
   ],
   "source": [
    "l[:5]"
   ]
  },
  {
   "cell_type": "markdown",
   "id": "c5a6d979",
   "metadata": {},
   "source": [
    "# count"
   ]
  },
  {
   "cell_type": "code",
   "execution_count": 14,
   "id": "96e1ff21",
   "metadata": {},
   "outputs": [],
   "source": [
    "list1=[18,'virat',True,53.5,False,57.0,18,53.5,18]"
   ]
  },
  {
   "cell_type": "code",
   "execution_count": 15,
   "id": "4c17bd54",
   "metadata": {},
   "outputs": [
    {
     "data": {
      "text/plain": [
       "3"
      ]
     },
     "execution_count": 15,
     "metadata": {},
     "output_type": "execute_result"
    }
   ],
   "source": [
    "list1.count(18)"
   ]
  },
  {
   "cell_type": "markdown",
   "id": "38fb0463",
   "metadata": {},
   "source": [
    "# index"
   ]
  },
  {
   "cell_type": "code",
   "execution_count": 17,
   "id": "ea39c815",
   "metadata": {},
   "outputs": [
    {
     "data": {
      "text/plain": [
       "5"
      ]
     },
     "execution_count": 17,
     "metadata": {},
     "output_type": "execute_result"
    }
   ],
   "source": [
    "list1.index(57.0)"
   ]
  },
  {
   "cell_type": "markdown",
   "id": "25c65225",
   "metadata": {},
   "source": [
    "# append"
   ]
  },
  {
   "cell_type": "code",
   "execution_count": 18,
   "id": "c842951c",
   "metadata": {},
   "outputs": [],
   "source": [
    "list1.append(13)"
   ]
  },
  {
   "cell_type": "code",
   "execution_count": 19,
   "id": "172b8994",
   "metadata": {},
   "outputs": [
    {
     "name": "stdout",
     "output_type": "stream",
     "text": [
      "[18, 'virat', True, 53.5, False, 57.0, 18, 53.5, 18, 13]\n"
     ]
    }
   ],
   "source": [
    "print(list1)"
   ]
  },
  {
   "cell_type": "code",
   "execution_count": 20,
   "id": "05c75358",
   "metadata": {},
   "outputs": [
    {
     "data": {
      "text/plain": [
       "['__add__',\n",
       " '__class__',\n",
       " '__class_getitem__',\n",
       " '__contains__',\n",
       " '__delattr__',\n",
       " '__delitem__',\n",
       " '__dir__',\n",
       " '__doc__',\n",
       " '__eq__',\n",
       " '__format__',\n",
       " '__ge__',\n",
       " '__getattribute__',\n",
       " '__getitem__',\n",
       " '__gt__',\n",
       " '__hash__',\n",
       " '__iadd__',\n",
       " '__imul__',\n",
       " '__init__',\n",
       " '__init_subclass__',\n",
       " '__iter__',\n",
       " '__le__',\n",
       " '__len__',\n",
       " '__lt__',\n",
       " '__mul__',\n",
       " '__ne__',\n",
       " '__new__',\n",
       " '__reduce__',\n",
       " '__reduce_ex__',\n",
       " '__repr__',\n",
       " '__reversed__',\n",
       " '__rmul__',\n",
       " '__setattr__',\n",
       " '__setitem__',\n",
       " '__sizeof__',\n",
       " '__str__',\n",
       " '__subclasshook__',\n",
       " 'append',\n",
       " 'clear',\n",
       " 'copy',\n",
       " 'count',\n",
       " 'extend',\n",
       " 'index',\n",
       " 'insert',\n",
       " 'pop',\n",
       " 'remove',\n",
       " 'reverse',\n",
       " 'sort']"
      ]
     },
     "execution_count": 20,
     "metadata": {},
     "output_type": "execute_result"
    }
   ],
   "source": [
    "dir(l)"
   ]
  },
  {
   "cell_type": "markdown",
   "id": "d0925456",
   "metadata": {},
   "source": [
    "# insert"
   ]
  },
  {
   "cell_type": "code",
   "execution_count": 21,
   "id": "9e425f37",
   "metadata": {},
   "outputs": [],
   "source": [
    "list1.insert(2,'Best allrounder')   # takes two parameter"
   ]
  },
  {
   "cell_type": "code",
   "execution_count": 22,
   "id": "583a0509",
   "metadata": {},
   "outputs": [
    {
     "data": {
      "text/plain": [
       "[18, 'virat', 'Best allrounder', True, 53.5, False, 57.0, 18, 53.5, 18, 13]"
      ]
     },
     "execution_count": 22,
     "metadata": {},
     "output_type": "execute_result"
    }
   ],
   "source": [
    "list1"
   ]
  },
  {
   "cell_type": "markdown",
   "id": "346a4bd2",
   "metadata": {},
   "source": [
    "# Pop- You have to pass the index number"
   ]
  },
  {
   "cell_type": "code",
   "execution_count": 23,
   "id": "175be6ae",
   "metadata": {
    "scrolled": true
   },
   "outputs": [
    {
     "data": {
      "text/plain": [
       "'virat'"
      ]
     },
     "execution_count": 23,
     "metadata": {},
     "output_type": "execute_result"
    }
   ],
   "source": [
    "list1.pop(1)             # deleting the item"
   ]
  },
  {
   "cell_type": "code",
   "execution_count": 24,
   "id": "5ca7fc0f",
   "metadata": {},
   "outputs": [
    {
     "data": {
      "text/plain": [
       "[18, 'Best allrounder', True, 53.5, False, 57.0, 18, 53.5, 18, 13]"
      ]
     },
     "execution_count": 24,
     "metadata": {},
     "output_type": "execute_result"
    }
   ],
   "source": [
    "list1"
   ]
  },
  {
   "cell_type": "code",
   "execution_count": 28,
   "id": "baece383",
   "metadata": {},
   "outputs": [],
   "source": [
    "list1.extend('virat')"
   ]
  },
  {
   "cell_type": "code",
   "execution_count": 29,
   "id": "ed40fd6d",
   "metadata": {},
   "outputs": [
    {
     "data": {
      "text/plain": [
       "[18,\n",
       " 'Best allrounder',\n",
       " True,\n",
       " 53.5,\n",
       " False,\n",
       " 57.0,\n",
       " 18,\n",
       " 53.5,\n",
       " 18,\n",
       " 13,\n",
       " 'v',\n",
       " 'i',\n",
       " 'r',\n",
       " 'a',\n",
       " 't']"
      ]
     },
     "execution_count": 29,
     "metadata": {},
     "output_type": "execute_result"
    }
   ],
   "source": [
    "list1"
   ]
  },
  {
   "cell_type": "code",
   "execution_count": 31,
   "id": "a0184621",
   "metadata": {},
   "outputs": [],
   "source": [
    "list3=[19,'S',2.5]"
   ]
  },
  {
   "cell_type": "code",
   "execution_count": 36,
   "id": "c07e3238",
   "metadata": {},
   "outputs": [],
   "source": [
    "list1.extend(list3)"
   ]
  },
  {
   "cell_type": "code",
   "execution_count": 37,
   "id": "8edffffb",
   "metadata": {},
   "outputs": [
    {
     "data": {
      "text/plain": [
       "[18,\n",
       " 'Best allrounder',\n",
       " True,\n",
       " 53.5,\n",
       " False,\n",
       " 57.0,\n",
       " 18,\n",
       " 53.5,\n",
       " 18,\n",
       " 13,\n",
       " 'v',\n",
       " 'i',\n",
       " 'r',\n",
       " 'a',\n",
       " 't',\n",
       " 19,\n",
       " 'S',\n",
       " 2.5,\n",
       " 19,\n",
       " 'S',\n",
       " 2.5]"
      ]
     },
     "execution_count": 37,
     "metadata": {},
     "output_type": "execute_result"
    }
   ],
   "source": [
    "list1"
   ]
  },
  {
   "cell_type": "markdown",
   "id": "52bf1b10",
   "metadata": {},
   "source": [
    "# copy"
   ]
  },
  {
   "cell_type": "code",
   "execution_count": 38,
   "id": "3b4e8674",
   "metadata": {},
   "outputs": [],
   "source": [
    "l3=list1.copy()"
   ]
  },
  {
   "cell_type": "code",
   "execution_count": 39,
   "id": "5b5de9a1",
   "metadata": {},
   "outputs": [
    {
     "data": {
      "text/plain": [
       "[18, 'virat', 'best batsman', True, 53.5]"
      ]
     },
     "execution_count": 39,
     "metadata": {},
     "output_type": "execute_result"
    }
   ],
   "source": [
    "l"
   ]
  },
  {
   "cell_type": "code",
   "execution_count": 41,
   "id": "5f8f279d",
   "metadata": {},
   "outputs": [],
   "source": [
    "list12=list1[:]"
   ]
  },
  {
   "cell_type": "code",
   "execution_count": 42,
   "id": "7ff210d1",
   "metadata": {},
   "outputs": [
    {
     "data": {
      "text/plain": [
       "[18,\n",
       " 'Best allrounder',\n",
       " True,\n",
       " 53.5,\n",
       " False,\n",
       " 57.0,\n",
       " 18,\n",
       " 53.5,\n",
       " 18,\n",
       " 13,\n",
       " 'v',\n",
       " 'i',\n",
       " 'r',\n",
       " 'a',\n",
       " 't',\n",
       " 19,\n",
       " 'S',\n",
       " 2.5,\n",
       " 19,\n",
       " 'S',\n",
       " 2.5]"
      ]
     },
     "execution_count": 42,
     "metadata": {},
     "output_type": "execute_result"
    }
   ],
   "source": [
    "list12"
   ]
  },
  {
   "cell_type": "code",
   "execution_count": 43,
   "id": "39a1a50f",
   "metadata": {},
   "outputs": [],
   "source": [
    "L=[12,10,50,27,35,19,0]"
   ]
  },
  {
   "cell_type": "code",
   "execution_count": 44,
   "id": "4af55f6d",
   "metadata": {},
   "outputs": [],
   "source": [
    "L.sort()"
   ]
  },
  {
   "cell_type": "code",
   "execution_count": 45,
   "id": "30cfd5ca",
   "metadata": {},
   "outputs": [
    {
     "data": {
      "text/plain": [
       "[0, 10, 12, 19, 27, 35, 50]"
      ]
     },
     "execution_count": 45,
     "metadata": {},
     "output_type": "execute_result"
    }
   ],
   "source": [
    "L"
   ]
  },
  {
   "cell_type": "code",
   "execution_count": 46,
   "id": "1e45175c",
   "metadata": {},
   "outputs": [],
   "source": [
    "L.sort(reverse=True)"
   ]
  },
  {
   "cell_type": "code",
   "execution_count": 47,
   "id": "8647c75b",
   "metadata": {},
   "outputs": [
    {
     "data": {
      "text/plain": [
       "[50, 35, 27, 19, 12, 10, 0]"
      ]
     },
     "execution_count": 47,
     "metadata": {},
     "output_type": "execute_result"
    }
   ],
   "source": [
    "L"
   ]
  },
  {
   "cell_type": "markdown",
   "id": "dcaf5eec",
   "metadata": {},
   "source": [
    "# Reverse"
   ]
  },
  {
   "cell_type": "code",
   "execution_count": null,
   "id": "096a8cd5",
   "metadata": {},
   "outputs": [],
   "source": []
  },
  {
   "cell_type": "code",
   "execution_count": 48,
   "id": "4f8dfac9",
   "metadata": {},
   "outputs": [],
   "source": [
    "L.reverse()"
   ]
  },
  {
   "cell_type": "code",
   "execution_count": 49,
   "id": "7edeebf3",
   "metadata": {},
   "outputs": [
    {
     "data": {
      "text/plain": [
       "[0, 10, 12, 19, 27, 35, 50]"
      ]
     },
     "execution_count": 49,
     "metadata": {},
     "output_type": "execute_result"
    }
   ],
   "source": [
    "L"
   ]
  },
  {
   "cell_type": "markdown",
   "id": "df866a13",
   "metadata": {},
   "source": [
    "# iyeration"
   ]
  },
  {
   "cell_type": "code",
   "execution_count": 6,
   "id": "af3be045",
   "metadata": {},
   "outputs": [],
   "source": [
    "l=[12,10,5,9,17,18,21]\n"
   ]
  },
  {
   "cell_type": "code",
   "execution_count": 7,
   "id": "b0dbbc78",
   "metadata": {},
   "outputs": [
    {
     "data": {
      "text/plain": [
       "7"
      ]
     },
     "execution_count": 7,
     "metadata": {},
     "output_type": "execute_result"
    }
   ],
   "source": [
    "len(l)"
   ]
  },
  {
   "cell_type": "code",
   "execution_count": 10,
   "id": "df732bf7",
   "metadata": {},
   "outputs": [
    {
     "name": "stdout",
     "output_type": "stream",
     "text": [
      "[12, 10, 5, 9, 17, 18, 21]\n",
      "[12, 10, 5, 9, 17, 18, 21]\n",
      "[12, 10, 5, 9, 17, 18, 21]\n",
      "[12, 10, 5, 9, 17, 18, 21]\n",
      "[12, 10, 5, 9, 17, 18, 21]\n",
      "[12, 10, 5, 9, 17, 18, 21]\n",
      "[12, 10, 5, 9, 17, 18, 21]\n"
     ]
    }
   ],
   "source": [
    "for i in range(7):\n",
    "    print(l[0:7])"
   ]
  },
  {
   "cell_type": "code",
   "execution_count": 13,
   "id": "af6c89e9",
   "metadata": {},
   "outputs": [
    {
     "name": "stdout",
     "output_type": "stream",
     "text": [
      "[12, 10, 5, 9, 17, 18, 21]\n",
      "[12, 10, 5, 9, 17, 18, 21]\n",
      "[12, 10, 5, 9, 17, 18, 21]\n",
      "[12, 10, 5, 9, 17, 18, 21]\n",
      "[12, 10, 5, 9, 17, 18, 21]\n",
      "[12, 10, 5, 9, 17, 18, 21]\n",
      "[12, 10, 5, 9, 17, 18, 21]\n"
     ]
    }
   ],
   "source": [
    "for i in l:\n",
    "    print(l[0:7])"
   ]
  },
  {
   "cell_type": "markdown",
   "id": "94daef78",
   "metadata": {},
   "source": [
    "# reverse"
   ]
  },
  {
   "cell_type": "code",
   "execution_count": 17,
   "id": "176e592d",
   "metadata": {
    "scrolled": true
   },
   "outputs": [
    {
     "name": "stdout",
     "output_type": "stream",
     "text": [
      "[10, 12, 30, 45]\n",
      "[10, 12, 30, 45]\n",
      "[10, 12, 30, 45]\n",
      "[10, 12, 30, 45]\n"
     ]
    }
   ],
   "source": [
    "L=[10,12,30,45]\n",
    "\n",
    "l=len(L)\n",
    "for i in range(l-1,-1,-1):\n",
    "    print(L)"
   ]
  },
  {
   "cell_type": "markdown",
   "id": "53b5a87d",
   "metadata": {},
   "source": [
    "# Nested list"
   ]
  },
  {
   "cell_type": "code",
   "execution_count": 2,
   "id": "8f5fd7b2",
   "metadata": {},
   "outputs": [
    {
     "name": "stdout",
     "output_type": "stream",
     "text": [
      "[10, 20, 30, [40, 50, 60, 70]]\n"
     ]
    }
   ],
   "source": [
    "n=[10,20,30,[40,50,60,70]]\n",
    "print(n)"
   ]
  },
  {
   "cell_type": "code",
   "execution_count": 4,
   "id": "31266c49",
   "metadata": {},
   "outputs": [
    {
     "name": "stdout",
     "output_type": "stream",
     "text": [
      "10\n"
     ]
    }
   ],
   "source": [
    "print(n[0])"
   ]
  },
  {
   "cell_type": "code",
   "execution_count": 5,
   "id": "f3f3806e",
   "metadata": {},
   "outputs": [
    {
     "data": {
      "text/plain": [
       "4"
      ]
     },
     "execution_count": 5,
     "metadata": {},
     "output_type": "execute_result"
    }
   ],
   "source": [
    "len(n)"
   ]
  },
  {
   "cell_type": "code",
   "execution_count": 6,
   "id": "879c8ce8",
   "metadata": {},
   "outputs": [
    {
     "data": {
      "text/plain": [
       "4"
      ]
     },
     "execution_count": 6,
     "metadata": {},
     "output_type": "execute_result"
    }
   ],
   "source": [
    "len(n[3])"
   ]
  },
  {
   "cell_type": "code",
   "execution_count": 8,
   "id": "8526ba40",
   "metadata": {},
   "outputs": [
    {
     "name": "stdout",
     "output_type": "stream",
     "text": [
      "Before modification of a: [1, 3, 5, 7, [9, 11, 13, 15, 17, 19, 21]]\n",
      "After modification of a: [11, 3, 5, 25, [9, 11, 13, 15, 17, 19, 21]]\n"
     ]
    }
   ],
   "source": [
    "a=[1,3,5,7,[9,11,13,15,17,19,21]]\n",
    "print('Before modification of a:',a)\n",
    "a[0]=11\n",
    "a[3]=25\n",
    "print('After modification of a:', a)"
   ]
  },
  {
   "cell_type": "code",
   "execution_count": 10,
   "id": "e51eee24",
   "metadata": {},
   "outputs": [
    {
     "name": "stdout",
     "output_type": "stream",
     "text": [
      "a:: [1, 3, [5, 7, 9, 11]]\n",
      "a: [5, 7, 9, 11]\n"
     ]
    }
   ],
   "source": [
    "a=[5,7,9,11]\n",
    "b=[1,3,a]\n",
    "\n",
    "print('a::',b)\n",
    "\n",
    "print('a:',a)"
   ]
  },
  {
   "cell_type": "markdown",
   "id": "16462b85",
   "metadata": {},
   "source": [
    "# Accessing nested list using for loop"
   ]
  },
  {
   "cell_type": "code",
   "execution_count": 13,
   "id": "c4063259",
   "metadata": {},
   "outputs": [
    {
     "name": "stdout",
     "output_type": "stream",
     "text": [
      "0 1\n",
      "1 3\n",
      "2 5\n",
      "3 7\n",
      "4 8\n",
      "5 0 11\n",
      "5 1 13\n",
      "5 2 15\n"
     ]
    }
   ],
   "source": [
    "a=[1,3,5,7,8,[11,13,15]]\n",
    "n=len(a)\n",
    "for i in range(n):\n",
    "    if type(a[i]) is list:\n",
    "        if len(a[i])>1:\n",
    "            m=len(a[i])\n",
    "            for j in range(m):\n",
    "                print(i,j,a[i][j])\n",
    "    else:\n",
    "        print(i,a[i])"
   ]
  },
  {
   "cell_type": "markdown",
   "id": "3f77e3b2",
   "metadata": {},
   "source": [
    "## Without Index"
   ]
  },
  {
   "cell_type": "code",
   "execution_count": 16,
   "id": "0902938c",
   "metadata": {},
   "outputs": [
    {
     "ename": "TypeError",
     "evalue": "'list' object cannot be interpreted as an integer",
     "output_type": "error",
     "traceback": [
      "\u001b[1;31m---------------------------------------------------------------------------\u001b[0m",
      "\u001b[1;31mTypeError\u001b[0m                                 Traceback (most recent call last)",
      "\u001b[1;32m~\\AppData\\Local\\Temp\\ipykernel_12016\\1179549335.py\u001b[0m in \u001b[0;36m<module>\u001b[1;34m\u001b[0m\n\u001b[0;32m      1\u001b[0m \u001b[0mn\u001b[0m\u001b[1;33m=\u001b[0m\u001b[1;33m[\u001b[0m\u001b[1;36m10\u001b[0m\u001b[1;33m,\u001b[0m\u001b[1;36m20\u001b[0m\u001b[1;33m,\u001b[0m\u001b[1;36m30\u001b[0m\u001b[1;33m,\u001b[0m\u001b[1;36m40\u001b[0m\u001b[1;33m,\u001b[0m\u001b[1;33m[\u001b[0m\u001b[1;36m55\u001b[0m\u001b[1;33m,\u001b[0m\u001b[1;36m65\u001b[0m\u001b[1;33m]\u001b[0m\u001b[1;33m]\u001b[0m\u001b[1;33m\u001b[0m\u001b[1;33m\u001b[0m\u001b[0m\n\u001b[0;32m      2\u001b[0m \u001b[1;33m\u001b[0m\u001b[0m\n\u001b[1;32m----> 3\u001b[1;33m \u001b[1;32mfor\u001b[0m \u001b[0mi\u001b[0m \u001b[1;32min\u001b[0m \u001b[0mrange\u001b[0m\u001b[1;33m(\u001b[0m\u001b[0mn\u001b[0m\u001b[1;33m)\u001b[0m\u001b[1;33m:\u001b[0m\u001b[1;33m\u001b[0m\u001b[1;33m\u001b[0m\u001b[0m\n\u001b[0m\u001b[0;32m      4\u001b[0m     \u001b[1;32mfor\u001b[0m \u001b[0mc\u001b[0m \u001b[1;32min\u001b[0m \u001b[0mi\u001b[0m\u001b[1;33m:\u001b[0m\u001b[1;33m\u001b[0m\u001b[1;33m\u001b[0m\u001b[0m\n\u001b[0;32m      5\u001b[0m         \u001b[0mprint\u001b[0m\u001b[1;33m(\u001b[0m\u001b[0mj\u001b[0m\u001b[1;33m)\u001b[0m\u001b[1;33m\u001b[0m\u001b[1;33m\u001b[0m\u001b[0m\n",
      "\u001b[1;31mTypeError\u001b[0m: 'list' object cannot be interpreted as an integer"
     ]
    }
   ],
   "source": [
    "n=[10,20,30,40,[55,65]]\n",
    "\n",
    "for i in range(n):\n",
    "    for c in i:\n",
    "        print(j)\n",
    "    print( )"
   ]
  },
  {
   "cell_type": "code",
   "execution_count": 20,
   "id": "dfc7818a",
   "metadata": {},
   "outputs": [
    {
     "name": "stdout",
     "output_type": "stream",
     "text": [
      "Enter The Numberf3\n",
      "0\n",
      "0\n",
      "0\n",
      "\n",
      "1\n",
      "1\n",
      "1\n",
      "\n",
      "2\n",
      "2\n",
      "2\n",
      "\n"
     ]
    }
   ],
   "source": [
    "a=int(input('Enter The Numberf'))\n",
    "for i in range(a):\n",
    "    for j in range(a):\n",
    "        print(i)\n",
    "    print()"
   ]
  },
  {
   "cell_type": "code",
   "execution_count": null,
   "id": "f3f5b486",
   "metadata": {},
   "outputs": [],
   "source": []
  }
 ],
 "metadata": {
  "kernelspec": {
   "display_name": "Python 3 (ipykernel)",
   "language": "python",
   "name": "python3"
  },
  "language_info": {
   "codemirror_mode": {
    "name": "ipython",
    "version": 3
   },
   "file_extension": ".py",
   "mimetype": "text/x-python",
   "name": "python",
   "nbconvert_exporter": "python",
   "pygments_lexer": "ipython3",
   "version": "3.9.13"
  }
 },
 "nbformat": 4,
 "nbformat_minor": 5
}
