{
 "cells": [
  {
   "cell_type": "markdown",
   "id": "b3a34234",
   "metadata": {},
   "source": [
    "# Strings are usally a group of characters represented in python. It is enclosed in single or double quotes. Ii can be abbreviated as str."
   ]
  },
  {
   "cell_type": "code",
   "execution_count": 2,
   "id": "c71e2244",
   "metadata": {},
   "outputs": [
    {
     "name": "stdout",
     "output_type": "stream",
     "text": [
      "sayon\n"
     ]
    }
   ],
   "source": [
    "x='sayon'\n",
    "print(x)"
   ]
  },
  {
   "cell_type": "code",
   "execution_count": 3,
   "id": "2b4445ca",
   "metadata": {},
   "outputs": [
    {
     "name": "stdout",
     "output_type": "stream",
     "text": [
      "my name is andrew\n"
     ]
    }
   ],
   "source": [
    "y=\"my name is andrew\"\n",
    "print(y)"
   ]
  },
  {
   "cell_type": "code",
   "execution_count": 4,
   "id": "f3562971",
   "metadata": {},
   "outputs": [
    {
     "name": "stdout",
     "output_type": "stream",
     "text": [
      "hello\n",
      "          how\n",
      "             are\n",
      "                you\n"
     ]
    }
   ],
   "source": [
    "z='''hello\n",
    "          how\n",
    "             are\n",
    "                you'''\n",
    "print(z)"
   ]
  },
  {
   "cell_type": "code",
   "execution_count": 5,
   "id": "55feba2b",
   "metadata": {},
   "outputs": [
    {
     "name": "stdout",
     "output_type": "stream",
     "text": [
      "Hey you are awesome bro\n"
     ]
    }
   ],
   "source": [
    " a=\"\"\"Hey you are awesome bro\"\"\"\n",
    "print(a)"
   ]
  },
  {
   "cell_type": "markdown",
   "id": "2b0a5fd3",
   "metadata": {},
   "source": [
    "# Looping through strings"
   ]
  },
  {
   "cell_type": "code",
   "execution_count": 7,
   "id": "b2af1149",
   "metadata": {},
   "outputs": [
    {
     "name": "stdout",
     "output_type": "stream",
     "text": [
      "a\n",
      "p\n",
      "p\n",
      "l\n",
      "e\n"
     ]
    }
   ],
   "source": [
    "a='apple' \n",
    "for i in a:\n",
    "    print(i)"
   ]
  },
  {
   "cell_type": "markdown",
   "id": "dce65a02",
   "metadata": {},
   "source": [
    "# checking the length"
   ]
  },
  {
   "cell_type": "code",
   "execution_count": 8,
   "id": "e7de8dd8",
   "metadata": {},
   "outputs": [
    {
     "name": "stdout",
     "output_type": "stream",
     "text": [
      "23\n"
     ]
    }
   ],
   "source": [
    " a=\"\"\"Hey you are awesome bro\"\"\"\n",
    "print(len(a))"
   ]
  },
  {
   "cell_type": "markdown",
   "id": "a64cbfee",
   "metadata": {},
   "source": [
    "# In place operator"
   ]
  },
  {
   "cell_type": "code",
   "execution_count": 9,
   "id": "14770079",
   "metadata": {},
   "outputs": [
    {
     "name": "stdout",
     "output_type": "stream",
     "text": [
      "True\n"
     ]
    }
   ],
   "source": [
    " a=\"\"\"Hey you are awesome bro\\nI am good\\nHow about you?\"\"\"\n",
    "print('are' in a) "
   ]
  },
  {
   "cell_type": "code",
   "execution_count": 10,
   "id": "fc2c41fa",
   "metadata": {},
   "outputs": [
    {
     "name": "stdout",
     "output_type": "stream",
     "text": [
      "False\n"
     ]
    }
   ],
   "source": [
    " a=\"\"\"Hey you are awesome bro\\nI am good\\nHow about you?\"\"\"\n",
    "print('are' not in a) "
   ]
  },
  {
   "cell_type": "code",
   "execution_count": 11,
   "id": "64f57675",
   "metadata": {},
   "outputs": [
    {
     "name": "stdout",
     "output_type": "stream",
     "text": [
      "True\n"
     ]
    }
   ],
   "source": [
    " a=\"\"\"Hey you are awesome bro\\nI am good\\nHow about you?\"\"\"\n",
    "print('is' not in a) "
   ]
  },
  {
   "cell_type": "markdown",
   "id": "faef55f7",
   "metadata": {},
   "source": [
    "# slicing"
   ]
  },
  {
   "cell_type": "code",
   "execution_count": 15,
   "id": "e3daf3b2",
   "metadata": {},
   "outputs": [],
   "source": [
    " a=\"\"\"Hey you are awesome bro\\nI am good\\nHow about you?\"\"\"\n"
   ]
  },
  {
   "cell_type": "code",
   "execution_count": 16,
   "id": "14d6fe83",
   "metadata": {},
   "outputs": [
    {
     "data": {
      "text/plain": [
       "'e'"
      ]
     },
     "execution_count": 16,
     "metadata": {},
     "output_type": "execute_result"
    }
   ],
   "source": [
    "a[1]"
   ]
  },
  {
   "cell_type": "code",
   "execution_count": 17,
   "id": "3c65fa19",
   "metadata": {},
   "outputs": [
    {
     "data": {
      "text/plain": [
       "48"
      ]
     },
     "execution_count": 17,
     "metadata": {},
     "output_type": "execute_result"
    }
   ],
   "source": [
    "len(a)"
   ]
  },
  {
   "cell_type": "code",
   "execution_count": 18,
   "id": "af62e610",
   "metadata": {},
   "outputs": [
    {
     "data": {
      "text/plain": [
       "'Hey you are awesome bro\\nI am good\\nHow about you?'"
      ]
     },
     "execution_count": 18,
     "metadata": {},
     "output_type": "execute_result"
    }
   ],
   "source": [
    "a[:48]"
   ]
  },
  {
   "cell_type": "code",
   "execution_count": 19,
   "id": "fb4daafe",
   "metadata": {},
   "outputs": [
    {
     "data": {
      "text/plain": [
       "'ey you are awesome bro\\nI am good\\nHow about you?'"
      ]
     },
     "execution_count": 19,
     "metadata": {},
     "output_type": "execute_result"
    }
   ],
   "source": [
    "a[1::]"
   ]
  },
  {
   "cell_type": "code",
   "execution_count": 20,
   "id": "0343a521",
   "metadata": {},
   "outputs": [
    {
     "data": {
      "text/plain": [
       "'s \\nm'"
      ]
     },
     "execution_count": 20,
     "metadata": {},
     "output_type": "execute_result"
    }
   ],
   "source": [
    "a[15:30:4]"
   ]
  },
  {
   "cell_type": "code",
   "execution_count": 21,
   "id": "96ae0fff",
   "metadata": {},
   "outputs": [
    {
     "data": {
      "text/plain": [
       "'e o r'"
      ]
     },
     "execution_count": 21,
     "metadata": {},
     "output_type": "execute_result"
    }
   ],
   "source": [
    "a[1:10:2]"
   ]
  },
  {
   "cell_type": "code",
   "execution_count": 24,
   "id": "9e28e66d",
   "metadata": {},
   "outputs": [
    {
     "data": {
      "text/plain": [
       "' '"
      ]
     },
     "execution_count": 24,
     "metadata": {},
     "output_type": "execute_result"
    }
   ],
   "source": [
    "a[-5]          #doubt"
   ]
  },
  {
   "cell_type": "code",
   "execution_count": 25,
   "id": "0b511379",
   "metadata": {},
   "outputs": [
    {
     "data": {
      "text/plain": [
       "'u'"
      ]
     },
     "execution_count": 25,
     "metadata": {},
     "output_type": "execute_result"
    }
   ],
   "source": [
    "a[-2]"
   ]
  },
  {
   "cell_type": "code",
   "execution_count": 26,
   "id": "7d958612",
   "metadata": {},
   "outputs": [
    {
     "data": {
      "text/plain": [
       "''"
      ]
     },
     "execution_count": 26,
     "metadata": {},
     "output_type": "execute_result"
    }
   ],
   "source": [
    "a[1:5:-2]"
   ]
  },
  {
   "cell_type": "code",
   "execution_count": 27,
   "id": "d075f275",
   "metadata": {},
   "outputs": [
    {
     "data": {
      "text/plain": [
       "'Hey you are awesome bro\\nI am good\\nHow about you?'"
      ]
     },
     "execution_count": 27,
     "metadata": {},
     "output_type": "execute_result"
    }
   ],
   "source": [
    "a[:]"
   ]
  },
  {
   "cell_type": "code",
   "execution_count": 28,
   "id": "470bbcdf",
   "metadata": {},
   "outputs": [
    {
     "data": {
      "text/plain": [
       "'Hey you are awesome bro\\nI am good\\nHow about you?'"
      ]
     },
     "execution_count": 28,
     "metadata": {},
     "output_type": "execute_result"
    }
   ],
   "source": [
    "a[::]"
   ]
  },
  {
   "cell_type": "code",
   "execution_count": 29,
   "id": "fc1f44f1",
   "metadata": {},
   "outputs": [
    {
     "data": {
      "text/plain": [
       "'Hey you are awesome bro\\nI am good\\nHow about you?'"
      ]
     },
     "execution_count": 29,
     "metadata": {},
     "output_type": "execute_result"
    }
   ],
   "source": [
    "a[0:48:1]"
   ]
  },
  {
   "cell_type": "markdown",
   "id": "a8a40192",
   "metadata": {},
   "source": [
    "# modifying strings"
   ]
  },
  {
   "cell_type": "code",
   "execution_count": 30,
   "id": "8d0cbc35",
   "metadata": {},
   "outputs": [
    {
     "name": "stdout",
     "output_type": "stream",
     "text": [
      "HELLO WORLD\n"
     ]
    }
   ],
   "source": [
    "my_str='hello world'\n",
    "print(my_str.upper())"
   ]
  },
  {
   "cell_type": "code",
   "execution_count": 31,
   "id": "c228785e",
   "metadata": {},
   "outputs": [
    {
     "name": "stdout",
     "output_type": "stream",
     "text": [
      "hello world\n"
     ]
    }
   ],
   "source": [
    "my_str='hello world'\n",
    "print(my_str.lower())"
   ]
  },
  {
   "cell_type": "code",
   "execution_count": 33,
   "id": "2ff87d76",
   "metadata": {},
   "outputs": [
    {
     "name": "stdout",
     "output_type": "stream",
     "text": [
      "Hello world\n"
     ]
    }
   ],
   "source": [
    "my_str='hello world'\n",
    "print(my_str.capitalize())"
   ]
  },
  {
   "cell_type": "code",
   "execution_count": 35,
   "id": "130fbfeb",
   "metadata": {},
   "outputs": [
    {
     "name": "stdout",
     "output_type": "stream",
     "text": [
      "False\n"
     ]
    }
   ],
   "source": [
    "my_str='hello world'\n",
    "print(my_str.endswith('l'))"
   ]
  },
  {
   "cell_type": "code",
   "execution_count": 36,
   "id": "f4ffb6bf",
   "metadata": {},
   "outputs": [
    {
     "name": "stdout",
     "output_type": "stream",
     "text": [
      "True\n"
     ]
    }
   ],
   "source": [
    "my_str='hello world'\n",
    "print(my_str.endswith('d'))"
   ]
  },
  {
   "cell_type": "code",
   "execution_count": 37,
   "id": "8b43b342",
   "metadata": {},
   "outputs": [
    {
     "name": "stdout",
     "output_type": "stream",
     "text": [
      "False\n"
     ]
    }
   ],
   "source": [
    "my_str='hello world'\n",
    "print(my_str.startswith('e'))"
   ]
  },
  {
   "cell_type": "code",
   "execution_count": 38,
   "id": "4dd5453f",
   "metadata": {},
   "outputs": [
    {
     "name": "stdout",
     "output_type": "stream",
     "text": [
      "True\n"
     ]
    }
   ],
   "source": [
    "my_str='hello world'\n",
    "print(my_str.startswith('h'))"
   ]
  },
  {
   "cell_type": "code",
   "execution_count": 40,
   "id": "c0159b31",
   "metadata": {},
   "outputs": [
    {
     "name": "stdout",
     "output_type": "stream",
     "text": [
      "['hello world']\n"
     ]
    }
   ],
   "source": [
    "my_str='hello world'\n",
    "print(my_str.split(','))"
   ]
  },
  {
   "cell_type": "code",
   "execution_count": 44,
   "id": "5b9a89b5",
   "metadata": {},
   "outputs": [
    {
     "name": "stdout",
     "output_type": "stream",
     "text": [
      "Hail world\n"
     ]
    }
   ],
   "source": [
    "my_str='hello world'\n",
    "print(my_str.replace('hello','Hail'))"
   ]
  },
  {
   "cell_type": "code",
   "execution_count": 49,
   "id": "3f13c0ee",
   "metadata": {},
   "outputs": [
    {
     "name": "stdout",
     "output_type": "stream",
     "text": [
      "['hello', 'world']\n"
     ]
    }
   ],
   "source": [
    "my_str='              hello world                  '\n",
    "print(my_str.rsplit())"
   ]
  },
  {
   "cell_type": "code",
   "execution_count": 50,
   "id": "efa64904",
   "metadata": {},
   "outputs": [
    {
     "name": "stdout",
     "output_type": "stream",
     "text": [
      "hello world\n"
     ]
    }
   ],
   "source": [
    "my_str='hello world'\n",
    "print(my_str.strip())"
   ]
  },
  {
   "cell_type": "code",
   "execution_count": 68,
   "id": "de41d235",
   "metadata": {},
   "outputs": [
    {
     "data": {
      "text/plain": [
       "['__add__',\n",
       " '__class__',\n",
       " '__contains__',\n",
       " '__delattr__',\n",
       " '__dir__',\n",
       " '__doc__',\n",
       " '__eq__',\n",
       " '__format__',\n",
       " '__ge__',\n",
       " '__getattribute__',\n",
       " '__getitem__',\n",
       " '__getnewargs__',\n",
       " '__gt__',\n",
       " '__hash__',\n",
       " '__init__',\n",
       " '__init_subclass__',\n",
       " '__iter__',\n",
       " '__le__',\n",
       " '__len__',\n",
       " '__lt__',\n",
       " '__mod__',\n",
       " '__mul__',\n",
       " '__ne__',\n",
       " '__new__',\n",
       " '__reduce__',\n",
       " '__reduce_ex__',\n",
       " '__repr__',\n",
       " '__rmod__',\n",
       " '__rmul__',\n",
       " '__setattr__',\n",
       " '__sizeof__',\n",
       " '__str__',\n",
       " '__subclasshook__',\n",
       " 'capitalize',\n",
       " 'casefold',\n",
       " 'center',\n",
       " 'count',\n",
       " 'encode',\n",
       " 'endswith',\n",
       " 'expandtabs',\n",
       " 'find',\n",
       " 'format',\n",
       " 'format_map',\n",
       " 'index',\n",
       " 'isalnum',\n",
       " 'isalpha',\n",
       " 'isascii',\n",
       " 'isdecimal',\n",
       " 'isdigit',\n",
       " 'isidentifier',\n",
       " 'islower',\n",
       " 'isnumeric',\n",
       " 'isprintable',\n",
       " 'isspace',\n",
       " 'istitle',\n",
       " 'isupper',\n",
       " 'join',\n",
       " 'ljust',\n",
       " 'lower',\n",
       " 'lstrip',\n",
       " 'maketrans',\n",
       " 'partition',\n",
       " 'removeprefix',\n",
       " 'removesuffix',\n",
       " 'replace',\n",
       " 'rfind',\n",
       " 'rindex',\n",
       " 'rjust',\n",
       " 'rpartition',\n",
       " 'rsplit',\n",
       " 'rstrip',\n",
       " 'split',\n",
       " 'splitlines',\n",
       " 'startswith',\n",
       " 'strip',\n",
       " 'swapcase',\n",
       " 'title',\n",
       " 'translate',\n",
       " 'upper',\n",
       " 'zfill']"
      ]
     },
     "execution_count": 68,
     "metadata": {},
     "output_type": "execute_result"
    }
   ],
   "source": [
    "dir(my_str)"
   ]
  },
  {
   "cell_type": "markdown",
   "id": "d98a07d6",
   "metadata": {},
   "source": [
    "# string concatenate"
   ]
  },
  {
   "cell_type": "code",
   "execution_count": 53,
   "id": "f2cfc8fb",
   "metadata": {},
   "outputs": [
    {
     "name": "stdout",
     "output_type": "stream",
     "text": [
      "My name isSayon\n"
     ]
    }
   ],
   "source": [
    "z='My name is'\n",
    "y='Sayon'\n",
    "x=z+y\n",
    "print(x)"
   ]
  },
  {
   "cell_type": "code",
   "execution_count": 54,
   "id": "84a73289",
   "metadata": {},
   "outputs": [
    {
     "name": "stdout",
     "output_type": "stream",
     "text": [
      "My name is Sayon\n"
     ]
    }
   ],
   "source": [
    "z='My name is'\n",
    "y='Sayon'\n",
    "x=z+' '+y\n",
    "print(x)"
   ]
  },
  {
   "cell_type": "markdown",
   "id": "689e26fe",
   "metadata": {},
   "source": [
    "# Formatting"
   ]
  },
  {
   "cell_type": "code",
   "execution_count": 55,
   "id": "3a20dbd7",
   "metadata": {},
   "outputs": [
    {
     "ename": "TypeError",
     "evalue": "can only concatenate str (not \"int\") to str",
     "output_type": "error",
     "traceback": [
      "\u001b[1;31m---------------------------------------------------------------------------\u001b[0m",
      "\u001b[1;31mTypeError\u001b[0m                                 Traceback (most recent call last)",
      "\u001b[1;32m~\\AppData\\Local\\Temp\\ipykernel_6648\\2238031224.py\u001b[0m in \u001b[0;36m<module>\u001b[1;34m\u001b[0m\n\u001b[0;32m      1\u001b[0m \u001b[0ma\u001b[0m\u001b[1;33m=\u001b[0m\u001b[1;36m18\u001b[0m\u001b[1;33m\u001b[0m\u001b[1;33m\u001b[0m\u001b[0m\n\u001b[1;32m----> 2\u001b[1;33m \u001b[0mb\u001b[0m\u001b[1;33m=\u001b[0m\u001b[1;34m'Love you 3000'\u001b[0m \u001b[1;33m+\u001b[0m\u001b[0ma\u001b[0m\u001b[1;33m\u001b[0m\u001b[1;33m\u001b[0m\u001b[0m\n\u001b[0m\u001b[0;32m      3\u001b[0m \u001b[0mprint\u001b[0m\u001b[1;33m(\u001b[0m\u001b[0mb\u001b[0m\u001b[1;33m)\u001b[0m\u001b[1;33m\u001b[0m\u001b[1;33m\u001b[0m\u001b[0m\n",
      "\u001b[1;31mTypeError\u001b[0m: can only concatenate str (not \"int\") to str"
     ]
    }
   ],
   "source": [
    "a=18\n",
    "b='Love you 3000' +a\n",
    "print(b)"
   ]
  },
  {
   "cell_type": "markdown",
   "id": "283697c3",
   "metadata": {},
   "source": [
    "# By formatting we understand that the argument which is passed and formatted are supposed to be placed in a string where the placeholders are{}."
   ]
  },
  {
   "cell_type": "code",
   "execution_count": 59,
   "id": "4437fbdf",
   "metadata": {},
   "outputs": [
    {
     "name": "stdout",
     "output_type": "stream",
     "text": [
      "Love you 3000 18\n"
     ]
    }
   ],
   "source": [
    "a=18\n",
    "b='Love you 3000 {}'\n",
    "print(b.format(a))"
   ]
  },
  {
   "cell_type": "code",
   "execution_count": 60,
   "id": "8a7c3fa5",
   "metadata": {},
   "outputs": [
    {
     "name": "stdout",
     "output_type": "stream",
     "text": [
      "I want 3 pieces of item 567 for 49.95 dollars.\n"
     ]
    }
   ],
   "source": [
    "quantity = 3\n",
    "itemno = 567\n",
    "price = 49.95\n",
    "myorder = \"I want {} pieces of item {} for {} dollars.\"\n",
    "print(myorder.format(quantity, itemno, price))\n"
   ]
  },
  {
   "cell_type": "code",
   "execution_count": 61,
   "id": "147d7302",
   "metadata": {},
   "outputs": [
    {
     "name": "stdout",
     "output_type": "stream",
     "text": [
      "I want to pay 49.95 dollars for 3 pieces of item 567.\n"
     ]
    }
   ],
   "source": [
    "quantity = 3\n",
    "itemno = 567\n",
    "price = 49.95\n",
    "myorder = \"I want to pay {2} dollars for {0} pieces of item {1}.\"\n",
    "print(myorder.format(quantity, itemno, price))"
   ]
  },
  {
   "cell_type": "markdown",
   "id": "d9f796f6",
   "metadata": {},
   "source": [
    "# memory allocation"
   ]
  },
  {
   "cell_type": "code",
   "execution_count": 62,
   "id": "2ed5f68b",
   "metadata": {},
   "outputs": [
    {
     "name": "stdout",
     "output_type": "stream",
     "text": [
      "Sayon\n"
     ]
    }
   ],
   "source": [
    "s='Sayon'\n",
    "print(s)"
   ]
  },
  {
   "cell_type": "code",
   "execution_count": 63,
   "id": "ec3ccdb0",
   "metadata": {},
   "outputs": [
    {
     "data": {
      "text/plain": [
       "2868007021808"
      ]
     },
     "execution_count": 63,
     "metadata": {},
     "output_type": "execute_result"
    }
   ],
   "source": [
    "id(s)"
   ]
  },
  {
   "cell_type": "code",
   "execution_count": 64,
   "id": "470a80b5",
   "metadata": {},
   "outputs": [
    {
     "name": "stdout",
     "output_type": "stream",
     "text": [
      "Dey\n"
     ]
    }
   ],
   "source": [
    "s1='Dey'\n",
    "print(s1)"
   ]
  },
  {
   "cell_type": "code",
   "execution_count": 65,
   "id": "3d8b090c",
   "metadata": {},
   "outputs": [
    {
     "data": {
      "text/plain": [
       "2868007868208"
      ]
     },
     "execution_count": 65,
     "metadata": {},
     "output_type": "execute_result"
    }
   ],
   "source": [
    "id(s1)"
   ]
  },
  {
   "cell_type": "code",
   "execution_count": 66,
   "id": "e1d2f19d",
   "metadata": {},
   "outputs": [],
   "source": [
    "s=s1"
   ]
  },
  {
   "cell_type": "code",
   "execution_count": 67,
   "id": "04564120",
   "metadata": {},
   "outputs": [
    {
     "data": {
      "text/plain": [
       "2868007868208"
      ]
     },
     "execution_count": 67,
     "metadata": {},
     "output_type": "execute_result"
    }
   ],
   "source": [
    "id(s)"
   ]
  },
  {
   "cell_type": "code",
   "execution_count": null,
   "id": "e24da3f9",
   "metadata": {},
   "outputs": [],
   "source": []
  }
 ],
 "metadata": {
  "kernelspec": {
   "display_name": "Python 3 (ipykernel)",
   "language": "python",
   "name": "python3"
  },
  "language_info": {
   "codemirror_mode": {
    "name": "ipython",
    "version": 3
   },
   "file_extension": ".py",
   "mimetype": "text/x-python",
   "name": "python",
   "nbconvert_exporter": "python",
   "pygments_lexer": "ipython3",
   "version": "3.9.13"
  }
 },
 "nbformat": 4,
 "nbformat_minor": 5
}
